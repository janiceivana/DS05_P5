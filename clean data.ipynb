{
 "cells": [
  {
   "cell_type": "code",
   "outputs": [],
   "source": [
    "import pandas as pd\n",
    "import datetime as dt\n",
    "\n",
    "calendar = pd.read_csv(r\"C:\\Users\\Nguyen\\Desktop\\calendar.csv\")\n",
    "\n",
    "price = pd.read_csv(r\"C:\\Users\\Nguyen\\Desktop\\sell_price.csv\")\n",
    "eva = pd.read_csv(r\"C:\\Users\\Nguyen\\Desktop\\sales_train_evaluation.csv\")\n",
    "\n",
    "\n"
   ],
   "metadata": {
    "collapsed": false,
    "ExecuteTime": {
     "end_time": "2024-05-09T11:44:12.814854100Z",
     "start_time": "2024-05-09T11:44:09.452304700Z"
    }
   },
   "id": "ed0ab99727c6facd",
   "execution_count": 10
  },
  {
   "cell_type": "code",
   "outputs": [],
   "source": [
    "dates = calendar[[\"date\", \"wm_yr_wk\", \"d\"]]\n",
    "\n",
    "# add unit sold\n",
    "d_cols = [col for col in eva.columns if col.startswith('d_')]\n",
    "fix = eva[d_cols].stack().reset_index(level=1)\n",
    "fix.columns = ['d','qty_sold']\n",
    "my_data = eva.drop(d_cols, axis=1).join(fix)\n",
    "my_data = my_data[[\"qty_sold\", \"item_id\", \"store_id\",\"dept_id\", \"d\"]]\n",
    "\n"
   ],
   "metadata": {
    "collapsed": false,
    "ExecuteTime": {
     "end_time": "2024-05-09T11:44:23.413530Z",
     "start_time": "2024-05-09T11:44:14.042474600Z"
    }
   },
   "id": "a82fc452b72c545c",
   "execution_count": 11
  },
  {
   "cell_type": "markdown",
   "source": [],
   "metadata": {
    "collapsed": false
   },
   "id": "7ea5cb49cee88636"
  },
  {
   "cell_type": "code",
   "outputs": [],
   "source": [
    "#making cost column\n",
    "\n",
    "price['cost_price'] = price.groupby(['item_id', 'store_id'])['sell_price'].transform(lambda x: 0.5 * x.min())\n"
   ],
   "metadata": {
    "collapsed": false,
    "ExecuteTime": {
     "end_time": "2024-05-09T11:44:28.526486200Z",
     "start_time": "2024-05-09T11:44:25.317577400Z"
    }
   },
   "id": "1e4c7c71e068c265",
   "execution_count": 12
  },
  {
   "cell_type": "code",
   "outputs": [],
   "source": [
    "price = price[price[\"store_id\"] == \"CA_1\"]\n"
   ],
   "metadata": {
    "collapsed": false,
    "ExecuteTime": {
     "end_time": "2024-05-09T11:44:30.480419Z",
     "start_time": "2024-05-09T11:44:30.179979300Z"
    }
   },
   "id": "679cf1a9cd53fb11",
   "execution_count": 13
  },
  {
   "cell_type": "code",
   "outputs": [],
   "source": [
    "price.head(10)"
   ],
   "metadata": {
    "collapsed": false
   },
   "id": "9e28a1017b110b5e",
   "execution_count": null
  },
  {
   "cell_type": "code",
   "outputs": [],
   "source": [
    "my_data = my_data[my_data[\"store_id\"] == \"CA_1\"]"
   ],
   "metadata": {
    "collapsed": false,
    "ExecuteTime": {
     "end_time": "2024-05-09T11:44:37.000915300Z",
     "start_time": "2024-05-09T11:44:34.372200Z"
    }
   },
   "id": "56835cc1167583e8",
   "execution_count": 14
  },
  {
   "cell_type": "code",
   "outputs": [
    {
     "data": {
      "text/plain": "   qty_sold        item_id store_id    dept_id    d        date  wm_yr_wk  \\\n0         0  HOBBIES_1_001     CA_1  HOBBIES_1  d_1  2011-01-29     11101   \n1         0  HOBBIES_1_001     CA_1  HOBBIES_1  d_2  2011-01-30     11101   \n2         0  HOBBIES_1_001     CA_1  HOBBIES_1  d_3  2011-01-31     11101   \n3         0  HOBBIES_1_001     CA_1  HOBBIES_1  d_4  2011-02-01     11101   \n4         0  HOBBIES_1_001     CA_1  HOBBIES_1  d_5  2011-02-02     11101   \n\n     weekday  wday  month  year event_name_1 event_type_1 event_name_2  \\\n0   Saturday     1      1  2011          NaN          NaN          NaN   \n1     Sunday     2      1  2011          NaN          NaN          NaN   \n2     Monday     3      1  2011          NaN          NaN          NaN   \n3    Tuesday     4      2  2011          NaN          NaN          NaN   \n4  Wednesday     5      2  2011          NaN          NaN          NaN   \n\n  event_type_2  snap_CA  snap_TX  snap_WI  \n0          NaN        0        0        0  \n1          NaN        0        0        0  \n2          NaN        0        0        0  \n3          NaN        1        1        0  \n4          NaN        1        0        1  ",
      "text/html": "<div>\n<style scoped>\n    .dataframe tbody tr th:only-of-type {\n        vertical-align: middle;\n    }\n\n    .dataframe tbody tr th {\n        vertical-align: top;\n    }\n\n    .dataframe thead th {\n        text-align: right;\n    }\n</style>\n<table border=\"1\" class=\"dataframe\">\n  <thead>\n    <tr style=\"text-align: right;\">\n      <th></th>\n      <th>qty_sold</th>\n      <th>item_id</th>\n      <th>store_id</th>\n      <th>dept_id</th>\n      <th>d</th>\n      <th>date</th>\n      <th>wm_yr_wk</th>\n      <th>weekday</th>\n      <th>wday</th>\n      <th>month</th>\n      <th>year</th>\n      <th>event_name_1</th>\n      <th>event_type_1</th>\n      <th>event_name_2</th>\n      <th>event_type_2</th>\n      <th>snap_CA</th>\n      <th>snap_TX</th>\n      <th>snap_WI</th>\n    </tr>\n  </thead>\n  <tbody>\n    <tr>\n      <th>0</th>\n      <td>0</td>\n      <td>HOBBIES_1_001</td>\n      <td>CA_1</td>\n      <td>HOBBIES_1</td>\n      <td>d_1</td>\n      <td>2011-01-29</td>\n      <td>11101</td>\n      <td>Saturday</td>\n      <td>1</td>\n      <td>1</td>\n      <td>2011</td>\n      <td>NaN</td>\n      <td>NaN</td>\n      <td>NaN</td>\n      <td>NaN</td>\n      <td>0</td>\n      <td>0</td>\n      <td>0</td>\n    </tr>\n    <tr>\n      <th>1</th>\n      <td>0</td>\n      <td>HOBBIES_1_001</td>\n      <td>CA_1</td>\n      <td>HOBBIES_1</td>\n      <td>d_2</td>\n      <td>2011-01-30</td>\n      <td>11101</td>\n      <td>Sunday</td>\n      <td>2</td>\n      <td>1</td>\n      <td>2011</td>\n      <td>NaN</td>\n      <td>NaN</td>\n      <td>NaN</td>\n      <td>NaN</td>\n      <td>0</td>\n      <td>0</td>\n      <td>0</td>\n    </tr>\n    <tr>\n      <th>2</th>\n      <td>0</td>\n      <td>HOBBIES_1_001</td>\n      <td>CA_1</td>\n      <td>HOBBIES_1</td>\n      <td>d_3</td>\n      <td>2011-01-31</td>\n      <td>11101</td>\n      <td>Monday</td>\n      <td>3</td>\n      <td>1</td>\n      <td>2011</td>\n      <td>NaN</td>\n      <td>NaN</td>\n      <td>NaN</td>\n      <td>NaN</td>\n      <td>0</td>\n      <td>0</td>\n      <td>0</td>\n    </tr>\n    <tr>\n      <th>3</th>\n      <td>0</td>\n      <td>HOBBIES_1_001</td>\n      <td>CA_1</td>\n      <td>HOBBIES_1</td>\n      <td>d_4</td>\n      <td>2011-02-01</td>\n      <td>11101</td>\n      <td>Tuesday</td>\n      <td>4</td>\n      <td>2</td>\n      <td>2011</td>\n      <td>NaN</td>\n      <td>NaN</td>\n      <td>NaN</td>\n      <td>NaN</td>\n      <td>1</td>\n      <td>1</td>\n      <td>0</td>\n    </tr>\n    <tr>\n      <th>4</th>\n      <td>0</td>\n      <td>HOBBIES_1_001</td>\n      <td>CA_1</td>\n      <td>HOBBIES_1</td>\n      <td>d_5</td>\n      <td>2011-02-02</td>\n      <td>11101</td>\n      <td>Wednesday</td>\n      <td>5</td>\n      <td>2</td>\n      <td>2011</td>\n      <td>NaN</td>\n      <td>NaN</td>\n      <td>NaN</td>\n      <td>NaN</td>\n      <td>1</td>\n      <td>0</td>\n      <td>1</td>\n    </tr>\n  </tbody>\n</table>\n</div>"
     },
     "execution_count": 15,
     "metadata": {},
     "output_type": "execute_result"
    }
   ],
   "source": [
    "#merge to get price cost with item\n",
    "my_data = my_data.merge(calendar, on= 'd')\n",
    "my_data.head()"
   ],
   "metadata": {
    "collapsed": false,
    "ExecuteTime": {
     "end_time": "2024-05-09T11:44:39.935480Z",
     "start_time": "2024-05-09T11:44:38.601782800Z"
    }
   },
   "id": "17dfd4f2af729903",
   "execution_count": 15
  },
  {
   "cell_type": "code",
   "outputs": [],
   "source": [
    "my_data = my_data[[\"item_id\", \"dept_id\", \"store_id\", \"qty_sold\", \"wm_yr_wk\", \"date\", ]]\n"
   ],
   "metadata": {
    "collapsed": false,
    "ExecuteTime": {
     "end_time": "2024-05-09T11:44:41.870699Z",
     "start_time": "2024-05-09T11:44:41.694487200Z"
    }
   },
   "id": "569ecba5cfe924fb",
   "execution_count": 16
  },
  {
   "cell_type": "code",
   "outputs": [
    {
     "data": {
      "text/plain": "         item_id    dept_id store_id_x  qty_sold  wm_yr_wk        date  \\\n0  HOBBIES_1_001  HOBBIES_1       CA_1       0.0     11325  2013-07-13   \n1  HOBBIES_1_001  HOBBIES_1       CA_1       0.0     11325  2013-07-14   \n2  HOBBIES_1_001  HOBBIES_1       CA_1       0.0     11325  2013-07-15   \n3  HOBBIES_1_001  HOBBIES_1       CA_1       0.0     11325  2013-07-16   \n4  HOBBIES_1_001  HOBBIES_1       CA_1       0.0     11325  2013-07-17   \n\n  store_id_y  sell_price  cost_price  \n0       CA_1        9.58        4.13  \n1       CA_1        9.58        4.13  \n2       CA_1        9.58        4.13  \n3       CA_1        9.58        4.13  \n4       CA_1        9.58        4.13  ",
      "text/html": "<div>\n<style scoped>\n    .dataframe tbody tr th:only-of-type {\n        vertical-align: middle;\n    }\n\n    .dataframe tbody tr th {\n        vertical-align: top;\n    }\n\n    .dataframe thead th {\n        text-align: right;\n    }\n</style>\n<table border=\"1\" class=\"dataframe\">\n  <thead>\n    <tr style=\"text-align: right;\">\n      <th></th>\n      <th>item_id</th>\n      <th>dept_id</th>\n      <th>store_id_x</th>\n      <th>qty_sold</th>\n      <th>wm_yr_wk</th>\n      <th>date</th>\n      <th>store_id_y</th>\n      <th>sell_price</th>\n      <th>cost_price</th>\n    </tr>\n  </thead>\n  <tbody>\n    <tr>\n      <th>0</th>\n      <td>HOBBIES_1_001</td>\n      <td>HOBBIES_1</td>\n      <td>CA_1</td>\n      <td>0.0</td>\n      <td>11325</td>\n      <td>2013-07-13</td>\n      <td>CA_1</td>\n      <td>9.58</td>\n      <td>4.13</td>\n    </tr>\n    <tr>\n      <th>1</th>\n      <td>HOBBIES_1_001</td>\n      <td>HOBBIES_1</td>\n      <td>CA_1</td>\n      <td>0.0</td>\n      <td>11325</td>\n      <td>2013-07-14</td>\n      <td>CA_1</td>\n      <td>9.58</td>\n      <td>4.13</td>\n    </tr>\n    <tr>\n      <th>2</th>\n      <td>HOBBIES_1_001</td>\n      <td>HOBBIES_1</td>\n      <td>CA_1</td>\n      <td>0.0</td>\n      <td>11325</td>\n      <td>2013-07-15</td>\n      <td>CA_1</td>\n      <td>9.58</td>\n      <td>4.13</td>\n    </tr>\n    <tr>\n      <th>3</th>\n      <td>HOBBIES_1_001</td>\n      <td>HOBBIES_1</td>\n      <td>CA_1</td>\n      <td>0.0</td>\n      <td>11325</td>\n      <td>2013-07-16</td>\n      <td>CA_1</td>\n      <td>9.58</td>\n      <td>4.13</td>\n    </tr>\n    <tr>\n      <th>4</th>\n      <td>HOBBIES_1_001</td>\n      <td>HOBBIES_1</td>\n      <td>CA_1</td>\n      <td>0.0</td>\n      <td>11325</td>\n      <td>2013-07-17</td>\n      <td>CA_1</td>\n      <td>9.58</td>\n      <td>4.13</td>\n    </tr>\n  </tbody>\n</table>\n</div>"
     },
     "execution_count": 17,
     "metadata": {},
     "output_type": "execute_result"
    }
   ],
   "source": [
    "#merge to get date\n",
    "my_data = my_data.merge(price, how=\"right\", on = [\"wm_yr_wk\", \"item_id\"])\n",
    "#merge to get date format\n",
    "\n",
    "my_data.head()"
   ],
   "metadata": {
    "collapsed": false,
    "ExecuteTime": {
     "end_time": "2024-05-09T11:44:53.040081700Z",
     "start_time": "2024-05-09T11:44:51.737998500Z"
    }
   },
   "id": "d0ddd2f703f3f9c7",
   "execution_count": 17
  },
  {
   "cell_type": "code",
   "outputs": [],
   "source": [
    "my_data['date'] = pd.to_datetime(my_data['date'], format=\"%Y-%m-%d\")"
   ],
   "metadata": {
    "collapsed": false,
    "ExecuteTime": {
     "end_time": "2024-05-09T11:44:58.924464900Z",
     "start_time": "2024-05-09T11:44:57.679569Z"
    }
   },
   "id": "1c6340540ce06839",
   "execution_count": 18
  },
  {
   "cell_type": "code",
   "outputs": [],
   "source": [],
   "metadata": {
    "collapsed": false,
    "ExecuteTime": {
     "end_time": "2024-05-09T11:46:31.603616800Z",
     "start_time": "2024-05-09T11:46:18.322554900Z"
    }
   },
   "id": "8693d37bc97b631b",
   "execution_count": 19
  },
  {
   "cell_type": "code",
   "outputs": [],
   "source": [
    "my_data = my_data[my_data[\"dept_id\"] == \"HOBBIES_1\"]"
   ],
   "metadata": {
    "collapsed": false,
    "ExecuteTime": {
     "end_time": "2024-05-09T11:48:50.601894100Z",
     "start_time": "2024-05-09T11:48:50.395660500Z"
    }
   },
   "id": "eccb785b6aafc29a",
   "execution_count": 20
  },
  {
   "cell_type": "code",
   "outputs": [],
   "source": [
    " my_data.to_csv(\"input_data.csv\")"
   ],
   "metadata": {
    "collapsed": false,
    "ExecuteTime": {
     "end_time": "2024-05-09T11:49:04.546205500Z",
     "start_time": "2024-05-09T11:49:02.705604800Z"
    }
   },
   "id": "db063048785c1e49",
   "execution_count": 21
  },
  {
   "cell_type": "code",
   "outputs": [],
   "source": [
    "import pandas as pd\n",
    "df =pd.read_csv(r\"C:\\Users\\Nguyen\\DS05_P5\\input_data.csv\")"
   ],
   "metadata": {
    "collapsed": false,
    "ExecuteTime": {
     "end_time": "2024-05-09T12:04:55.598995500Z",
     "start_time": "2024-05-09T12:04:55.146119100Z"
    }
   },
   "id": "4b7460433711d1a",
   "execution_count": 3
  },
  {
   "cell_type": "code",
   "outputs": [],
   "source": [
    "df = df.drop(columns=['store_id_y'])"
   ],
   "metadata": {
    "collapsed": false,
    "ExecuteTime": {
     "end_time": "2024-05-09T12:05:36.979079200Z",
     "start_time": "2024-05-09T12:05:36.951816800Z"
    }
   },
   "id": "ff6d6ba9f0a94143",
   "execution_count": 4
  },
  {
   "cell_type": "code",
   "outputs": [],
   "source": [
    "df.rename(columns={'store_id_x':'store_id'}, inplace=True)"
   ],
   "metadata": {
    "collapsed": false,
    "ExecuteTime": {
     "end_time": "2024-05-09T12:06:46.339086300Z",
     "start_time": "2024-05-09T12:06:46.327315800Z"
    }
   },
   "id": "c6bff978542eb7cf",
   "execution_count": 6
  },
  {
   "cell_type": "code",
   "outputs": [
    {
     "data": {
      "text/plain": "   Unnamed: 0        item_id    dept_id store_id  qty_sold  wm_yr_wk  \\\n0           0  HOBBIES_1_001  HOBBIES_1     CA_1       0.0     11325   \n1           1  HOBBIES_1_001  HOBBIES_1     CA_1       0.0     11325   \n2           2  HOBBIES_1_001  HOBBIES_1     CA_1       0.0     11325   \n3           3  HOBBIES_1_001  HOBBIES_1     CA_1       0.0     11325   \n4           4  HOBBIES_1_001  HOBBIES_1     CA_1       0.0     11325   \n\n         date  sell_price  cost_price  \n0  2013-07-13        9.58        4.13  \n1  2013-07-14        9.58        4.13  \n2  2013-07-15        9.58        4.13  \n3  2013-07-16        9.58        4.13  \n4  2013-07-17        9.58        4.13  ",
      "text/html": "<div>\n<style scoped>\n    .dataframe tbody tr th:only-of-type {\n        vertical-align: middle;\n    }\n\n    .dataframe tbody tr th {\n        vertical-align: top;\n    }\n\n    .dataframe thead th {\n        text-align: right;\n    }\n</style>\n<table border=\"1\" class=\"dataframe\">\n  <thead>\n    <tr style=\"text-align: right;\">\n      <th></th>\n      <th>Unnamed: 0</th>\n      <th>item_id</th>\n      <th>dept_id</th>\n      <th>store_id</th>\n      <th>qty_sold</th>\n      <th>wm_yr_wk</th>\n      <th>date</th>\n      <th>sell_price</th>\n      <th>cost_price</th>\n    </tr>\n  </thead>\n  <tbody>\n    <tr>\n      <th>0</th>\n      <td>0</td>\n      <td>HOBBIES_1_001</td>\n      <td>HOBBIES_1</td>\n      <td>CA_1</td>\n      <td>0.0</td>\n      <td>11325</td>\n      <td>2013-07-13</td>\n      <td>9.58</td>\n      <td>4.13</td>\n    </tr>\n    <tr>\n      <th>1</th>\n      <td>1</td>\n      <td>HOBBIES_1_001</td>\n      <td>HOBBIES_1</td>\n      <td>CA_1</td>\n      <td>0.0</td>\n      <td>11325</td>\n      <td>2013-07-14</td>\n      <td>9.58</td>\n      <td>4.13</td>\n    </tr>\n    <tr>\n      <th>2</th>\n      <td>2</td>\n      <td>HOBBIES_1_001</td>\n      <td>HOBBIES_1</td>\n      <td>CA_1</td>\n      <td>0.0</td>\n      <td>11325</td>\n      <td>2013-07-15</td>\n      <td>9.58</td>\n      <td>4.13</td>\n    </tr>\n    <tr>\n      <th>3</th>\n      <td>3</td>\n      <td>HOBBIES_1_001</td>\n      <td>HOBBIES_1</td>\n      <td>CA_1</td>\n      <td>0.0</td>\n      <td>11325</td>\n      <td>2013-07-16</td>\n      <td>9.58</td>\n      <td>4.13</td>\n    </tr>\n    <tr>\n      <th>4</th>\n      <td>4</td>\n      <td>HOBBIES_1_001</td>\n      <td>HOBBIES_1</td>\n      <td>CA_1</td>\n      <td>0.0</td>\n      <td>11325</td>\n      <td>2013-07-17</td>\n      <td>9.58</td>\n      <td>4.13</td>\n    </tr>\n  </tbody>\n</table>\n</div>"
     },
     "execution_count": 7,
     "metadata": {},
     "output_type": "execute_result"
    }
   ],
   "source": [
    "df.head()\n"
   ],
   "metadata": {
    "collapsed": false,
    "ExecuteTime": {
     "end_time": "2024-05-09T12:06:54.592739Z",
     "start_time": "2024-05-09T12:06:54.583688700Z"
    }
   },
   "id": "e840ce1fe043157c",
   "execution_count": 7
  },
  {
   "cell_type": "code",
   "outputs": [],
   "source": [
    " df.to_csv(\"input_data.csv\")"
   ],
   "metadata": {
    "collapsed": false,
    "ExecuteTime": {
     "end_time": "2024-05-09T12:07:33.020436800Z",
     "start_time": "2024-05-09T12:07:31.452102300Z"
    }
   },
   "id": "9790335b5a0ddc72",
   "execution_count": 8
  }
 ],
 "metadata": {
  "kernelspec": {
   "display_name": "Python 3",
   "language": "python",
   "name": "python3"
  },
  "language_info": {
   "codemirror_mode": {
    "name": "ipython",
    "version": 2
   },
   "file_extension": ".py",
   "mimetype": "text/x-python",
   "name": "python",
   "nbconvert_exporter": "python",
   "pygments_lexer": "ipython2",
   "version": "2.7.6"
  }
 },
 "nbformat": 4,
 "nbformat_minor": 5
}
